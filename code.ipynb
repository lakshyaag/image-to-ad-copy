{
 "cells": [
  {
   "cell_type": "code",
   "execution_count": 1,
   "metadata": {},
   "outputs": [
    {
     "data": {
      "text/plain": [
       "True"
      ]
     },
     "execution_count": 1,
     "metadata": {},
     "output_type": "execute_result"
    }
   ],
   "source": [
    "import os\n",
    "from dotenv import load_dotenv, find_dotenv\n",
    "from openai import OpenAI\n",
    "import instructor\n",
    "from pydantic import BaseModel, Field\n",
    "from typing import Optional, List\n",
    "from rich import print as rprint\n",
    "\n",
    "load_dotenv(find_dotenv())"
   ]
  },
  {
   "cell_type": "code",
   "execution_count": 2,
   "metadata": {},
   "outputs": [],
   "source": [
    "client_image = instructor.patch(OpenAI(api_key=os.getenv(\"OPENAI_API_KEY\")), mode=instructor.Mode.MD_JSON)\n",
    "client_copy = instructor.patch(OpenAI(api_key=os.getenv(\"OPENAI_API_KEY\")), mode=instructor.Mode.FUNCTIONS)"
   ]
  },
  {
   "cell_type": "code",
   "execution_count": 3,
   "metadata": {},
   "outputs": [],
   "source": [
    "class Product(BaseModel):\n",
    "    \"\"\"\n",
    "    Represents a product extracted from an image using AI.\n",
    "\n",
    "    The product attributes are dynamically determined based on the content\n",
    "    of the image and the AI's interpretation. This class serves as a structured\n",
    "    representation of the identified product characteristics.\n",
    "    \"\"\"\n",
    "\n",
    "    name: str = Field(\n",
    "        description=\"A generic name for the product.\", example=\"Headphones\"\n",
    "    )\n",
    "    key_features: Optional[list[str]] = Field(\n",
    "        description=\"A list of key features of the product that stand out.\",\n",
    "        example=[\"Wireless\", \"Noise Cancellation\"],\n",
    "        default=None,\n",
    "    )\n",
    "\n",
    "    description: Optional[str] = Field(\n",
    "        description=\"A description of the product.\",\n",
    "        example=\"Wireless headphones with noise cancellation.\",\n",
    "        default=None,\n",
    "    )\n",
    "\n",
    "    def generate_prompt(self):\n",
    "        prompt = f\"Product: {self.name}\\n\"\n",
    "        if self.description:\n",
    "            prompt += f\"Description: {self.description}\\n\"\n",
    "        if self.key_features:\n",
    "            prompt += f\"Key Features: {', '.join(self.key_features)}\\n\"\n",
    "        return prompt\n",
    "    \n",
    "    def __repr__(self):\n",
    "        return self.generate_prompt()\n",
    "\n",
    "class IdentifiedProduct(BaseModel):\n",
    "    \"\"\"\n",
    "    Represents a list of products identified in the image.\n",
    "    \"\"\"\n",
    "\n",
    "    products: Optional[List[Product]] = Field(\n",
    "        description=\"A list of products identified by the AI.\",\n",
    "        example=[\n",
    "            Product(\n",
    "                name=\"Headphones\",\n",
    "                description=\"Wireless headphones with noise cancellation.\",\n",
    "                key_features=[\"Wireless\", \"Noise Cancellation\"],\n",
    "            )\n",
    "        ],\n",
    "        default=None,\n",
    "    )\n",
    "\n",
    "    error: bool = Field(default=False)\n",
    "    message: Optional[str] = Field(default=None)\n",
    "\n",
    "    def __bool__(self):\n",
    "        return self.products is not None and len(self.products) > 0\n"
   ]
  },
  {
   "cell_type": "code",
   "execution_count": 4,
   "metadata": {},
   "outputs": [],
   "source": [
    "def read_images(image_urls: List[str]):\n",
    "    return client_image.chat.completions.create(\n",
    "        model=\"gpt-4-vision-preview\",\n",
    "        response_model=IdentifiedProduct,\n",
    "        max_tokens=1024,\n",
    "        temperature=0,\n",
    "        messages=[\n",
    "            {\n",
    "                \"role\": \"user\",\n",
    "                \"content\": [\n",
    "                    {\n",
    "                        \"type\": \"text\",\n",
    "                        \"text\": \"Identify a product using the given images and generate key features\",\n",
    "                    },\n",
    "                    *[\n",
    "                        {\"type\": \"image_url\", \"image_url\": {\"url\": url}}\n",
    "                        for url in image_urls\n",
    "                    ],\n",
    "                ],\n",
    "            }\n",
    "        ],\n",
    "    )\n"
   ]
  },
  {
   "cell_type": "code",
   "execution_count": 5,
   "metadata": {},
   "outputs": [],
   "source": [
    "class AdCopy(BaseModel):\n",
    "    \"\"\"\n",
    "    Represents a generated ad copy.\n",
    "    \"\"\"\n",
    "\n",
    "    ad_copy: str = Field(\n",
    "        description=\"A long-form advertisement copy for a product. This will be used in campaigns to promote the product with a persuasive message and a call-to-action with the objective of driving sales.\",\n",
    "        example=\"\"\"\n",
    "        \"Experience the ultimate sound quality with our wireless headphones, featuring high-definition audio, noise-cancellation, and a comfortable, ergonomic design for all-day listening.\"\n",
    "        \"\"\",\n",
    "    )\n",
    "    name: str = Field(\n",
    "        description=\"The name of the product being advertised.\",\n",
    "        example=\"Headphones\",\n",
    "    )\n",
    "\n",
    "    def __str__(self):\n",
    "        return f\"{self.name}: {self.ad_copy}\"\n",
    "\n",
    "    def __repr__(self):\n",
    "        return str(self)\n"
   ]
  },
  {
   "cell_type": "code",
   "execution_count": 6,
   "metadata": {},
   "outputs": [],
   "source": [
    "def generate_ad_copy(product: Product):\n",
    "    return client_copy.chat.completions.create(\n",
    "        model=\"gpt-4-1106-preview\",\n",
    "        response_model=AdCopy,\n",
    "        temperature=0.1,\n",
    "        messages=[\n",
    "            {\n",
    "                \"role\": \"system\",\n",
    "                \"content\": \"You are an expert marketing assistant for all products. Your task is to generate an advertisement copy for a product using the name, description, and key features.\",\n",
    "            },\n",
    "            {\"role\": \"user\", \"content\": product.generate_prompt()},\n",
    "        ],\n",
    "    )\n"
   ]
  },
  {
   "cell_type": "code",
   "execution_count": 7,
   "metadata": {},
   "outputs": [],
   "source": [
    "def run(images: list[str]) -> List[AdCopy]:\n",
    "    \"\"\"\n",
    "    Given a list of images, identify the products in the images and generate ad copy for each product.\n",
    "    \"\"\"\n",
    "\n",
    "    identified_products: IdentifiedProduct = read_images(images)\n",
    "    ad_copies = []\n",
    "\n",
    "    if identified_products.error:\n",
    "        rprint(f\"[red]Error: {identified_products.message}[/red]\")\n",
    "        return []\n",
    "\n",
    "    if not identified_products:\n",
    "        rprint(\"[yellow]No products identified.[/yellow]\")\n",
    "        return []\n",
    "\n",
    "    rprint(\"[green]Products identified:[/green]\")\n",
    "\n",
    "    for product in identified_products.products:\n",
    "        rprint(f\"[green]{product}[/green]\")\n",
    "        ad_copy: AdCopy = generate_ad_copy(product)\n",
    "        rprint(f\"[blue]Ad Copy: {ad_copy.ad_copy}[/blue]\")\n",
    "        ad_copies.append(ad_copy)\n",
    "\n",
    "    return {\"products\": identified_products.products, \"ad_copies\": ad_copies}\n"
   ]
  },
  {
   "cell_type": "code",
   "execution_count": 8,
   "metadata": {},
   "outputs": [],
   "source": [
    "images = [\n",
    "    \"https://bruvi.com/cdn/shop/files/StandAloneBrewer_850x.png?v=1691162569\",\n",
    "    \"https://bruvi.com/cdn/shop/files/Pod_Insert_Bundle_e9c2e60a-e112-4a8b-8ee3-674b5ba7958b_850x.png?v=1696286536\",\n",
    "    \"https://bruvi.com/cdn/shop/files/Joyride-PodBox_550x.png?v=1682464498\"\n",
    "]\n"
   ]
  },
  {
   "cell_type": "code",
   "execution_count": 11,
   "metadata": {},
   "outputs": [
    {
     "data": {
      "text/html": [
       "<pre style=\"white-space:pre;overflow-x:auto;line-height:normal;font-family:Menlo,'DejaVu Sans Mono',consolas,'Courier New',monospace\"><span style=\"color: #008000; text-decoration-color: #008000\">Products identified:</span>\n",
       "</pre>\n"
      ],
      "text/plain": [
       "\u001b[32mProducts identified:\u001b[0m\n"
      ]
     },
     "metadata": {},
     "output_type": "display_data"
    },
    {
     "data": {
      "text/html": [
       "<pre style=\"white-space:pre;overflow-x:auto;line-height:normal;font-family:Menlo,'DejaVu Sans Mono',consolas,'Courier New',monospace\"><span style=\"color: #008000; text-decoration-color: #008000\">name</span><span style=\"color: #008000; text-decoration-color: #008000\">=</span><span style=\"color: #008000; text-decoration-color: #008000\">'Single-Serve Coffee Maker'</span><span style=\"color: #008000; text-decoration-color: #008000\"> </span><span style=\"color: #008000; text-decoration-color: #008000\">key_features</span><span style=\"color: #008000; text-decoration-color: #008000\">=</span><span style=\"color: #008000; text-decoration-color: #008000; font-weight: bold\">[</span><span style=\"color: #008000; text-decoration-color: #008000\">'Pod-based brewing system'</span><span style=\"color: #008000; text-decoration-color: #008000\">, </span><span style=\"color: #008000; text-decoration-color: #008000\">'Multiple drink options'</span><span style=\"color: #008000; text-decoration-color: #008000\">, </span><span style=\"color: #008000; text-decoration-color: #008000\">'Compact </span>\n",
       "<span style=\"color: #008000; text-decoration-color: #008000\">design'</span><span style=\"color: #008000; text-decoration-color: #008000; font-weight: bold\">]</span><span style=\"color: #008000; text-decoration-color: #008000\"> </span><span style=\"color: #008000; text-decoration-color: #008000\">description</span><span style=\"color: #008000; text-decoration-color: #008000\">=</span><span style=\"color: #008000; text-decoration-color: #008000\">'A single-serve coffee maker that uses pods to brew a variety of coffee and tea beverages.'</span>\n",
       "</pre>\n"
      ],
      "text/plain": [
       "\u001b[32mname\u001b[0m\u001b[32m=\u001b[0m\u001b[32m'Single-Serve Coffee Maker'\u001b[0m\u001b[32m \u001b[0m\u001b[32mkey_features\u001b[0m\u001b[32m=\u001b[0m\u001b[1;32m[\u001b[0m\u001b[32m'Pod-based brewing system'\u001b[0m\u001b[32m, \u001b[0m\u001b[32m'Multiple drink options'\u001b[0m\u001b[32m, \u001b[0m\u001b[32m'Compact \u001b[0m\n",
       "\u001b[32mdesign'\u001b[0m\u001b[1;32m]\u001b[0m\u001b[32m \u001b[0m\u001b[32mdescription\u001b[0m\u001b[32m=\u001b[0m\u001b[32m'A single-serve coffee maker that uses pods to brew a variety of coffee and tea beverages.'\u001b[0m\n"
      ]
     },
     "metadata": {},
     "output_type": "display_data"
    },
    {
     "data": {
      "text/html": [
       "<pre style=\"white-space:pre;overflow-x:auto;line-height:normal;font-family:Menlo,'DejaVu Sans Mono',consolas,'Courier New',monospace\"><span style=\"color: #000080; text-decoration-color: #000080\">Ad Copy:</span> Introducing the ultimate convenience in your daily routine – the Single-Serve Coffee Maker! Say goodbye to\n",
       "the hassle of brewing a whole pot when all you need is one perfect cup. Our pod-based brewing system offers you a \n",
       "world of multiple drink options at the touch of a button. Whether you're craving a bold espresso, a classic cup of \n",
       "coffee, or a soothing tea, your desires are covered. Its sleek, compact design fits seamlessly into any kitchen \n",
       "space, making it the ideal choice for coffee lovers living in cozy city apartments or for those who appreciate \n",
       "clutter-free countertops. Elevate your coffee experience with the Single-Serve Coffee Maker – where every sip is a \n",
       "fresh adventure. Order now and transform your mornings into moments of pure bliss!\n",
       "</pre>\n"
      ],
      "text/plain": [
       "\u001b[34mAd Copy:\u001b[0m Introducing the ultimate convenience in your daily routine – the Single-Serve Coffee Maker! Say goodbye to\n",
       "the hassle of brewing a whole pot when all you need is one perfect cup. Our pod-based brewing system offers you a \n",
       "world of multiple drink options at the touch of a button. Whether you're craving a bold espresso, a classic cup of \n",
       "coffee, or a soothing tea, your desires are covered. Its sleek, compact design fits seamlessly into any kitchen \n",
       "space, making it the ideal choice for coffee lovers living in cozy city apartments or for those who appreciate \n",
       "clutter-free countertops. Elevate your coffee experience with the Single-Serve Coffee Maker – where every sip is a \n",
       "fresh adventure. Order now and transform your mornings into moments of pure bliss!\n"
      ]
     },
     "metadata": {},
     "output_type": "display_data"
    },
    {
     "data": {
      "text/html": [
       "<pre style=\"white-space:pre;overflow-x:auto;line-height:normal;font-family:Menlo,'DejaVu Sans Mono',consolas,'Courier New',monospace\"><span style=\"color: #008000; text-decoration-color: #008000\">name</span><span style=\"color: #008000; text-decoration-color: #008000\">=</span><span style=\"color: #008000; text-decoration-color: #008000\">'Coffee Pods'</span><span style=\"color: #008000; text-decoration-color: #008000\"> </span><span style=\"color: #008000; text-decoration-color: #008000\">key_features</span><span style=\"color: #008000; text-decoration-color: #008000\">=</span><span style=\"color: #008000; text-decoration-color: #008000; font-weight: bold\">[</span><span style=\"color: #008000; text-decoration-color: #008000\">'Pre-measured coffee'</span><span style=\"color: #008000; text-decoration-color: #008000\">, </span><span style=\"color: #008000; text-decoration-color: #008000\">'Convenient'</span><span style=\"color: #008000; text-decoration-color: #008000\">, </span><span style=\"color: #008000; text-decoration-color: #008000\">'Variety of flavors'</span><span style=\"color: #008000; text-decoration-color: #008000; font-weight: bold\">]</span><span style=\"color: #008000; text-decoration-color: #008000\"> </span>\n",
       "<span style=\"color: #008000; text-decoration-color: #008000\">description</span><span style=\"color: #008000; text-decoration-color: #008000\">=</span><span style=\"color: #008000; text-decoration-color: #008000\">'Pre-packaged coffee pods for use with compatible single-serve coffee makers, offering a convenient way</span>\n",
       "<span style=\"color: #008000; text-decoration-color: #008000\">to enjoy a variety of coffee flavors.'</span>\n",
       "</pre>\n"
      ],
      "text/plain": [
       "\u001b[32mname\u001b[0m\u001b[32m=\u001b[0m\u001b[32m'Coffee Pods'\u001b[0m\u001b[32m \u001b[0m\u001b[32mkey_features\u001b[0m\u001b[32m=\u001b[0m\u001b[1;32m[\u001b[0m\u001b[32m'Pre-measured coffee'\u001b[0m\u001b[32m, \u001b[0m\u001b[32m'Convenient'\u001b[0m\u001b[32m, \u001b[0m\u001b[32m'Variety of flavors'\u001b[0m\u001b[1;32m]\u001b[0m\u001b[32m \u001b[0m\n",
       "\u001b[32mdescription\u001b[0m\u001b[32m=\u001b[0m\u001b[32m'Pre-packaged coffee pods for use with compatible single-serve coffee makers, offering a convenient way\u001b[0m\n",
       "\u001b[32mto enjoy a variety of coffee flavors.'\u001b[0m\n"
      ]
     },
     "metadata": {},
     "output_type": "display_data"
    },
    {
     "data": {
      "text/html": [
       "<pre style=\"white-space:pre;overflow-x:auto;line-height:normal;font-family:Menlo,'DejaVu Sans Mono',consolas,'Courier New',monospace\"><span style=\"color: #000080; text-decoration-color: #000080\">Ad Copy:</span> Wake up to the simplicity of flavor with our premium Coffee Pods! Designed for coffee lovers who value \n",
       "convenience without compromising on taste, our Coffee Pods are the perfect blend of efficiency and indulgence. Each\n",
       "pod is pre-measured to ensure the perfect cup every time, so you can savor your favorite coffee flavors with ease. \n",
       "Whether you're in the mood for a bold espresso or a smooth vanilla, our variety of flavors caters to every palate. \n",
       "Say goodbye to messy coffee grounds and hello to a cleaner, quicker coffee experience. Transform your morning \n",
       "routine with our Coffee Pods – just pop, brew, and enjoy! Order now and discover the ultimate coffee convenience.\n",
       "</pre>\n"
      ],
      "text/plain": [
       "\u001b[34mAd Copy:\u001b[0m Wake up to the simplicity of flavor with our premium Coffee Pods! Designed for coffee lovers who value \n",
       "convenience without compromising on taste, our Coffee Pods are the perfect blend of efficiency and indulgence. Each\n",
       "pod is pre-measured to ensure the perfect cup every time, so you can savor your favorite coffee flavors with ease. \n",
       "Whether you're in the mood for a bold espresso or a smooth vanilla, our variety of flavors caters to every palate. \n",
       "Say goodbye to messy coffee grounds and hello to a cleaner, quicker coffee experience. Transform your morning \n",
       "routine with our Coffee Pods – just pop, brew, and enjoy! Order now and discover the ultimate coffee convenience.\n"
      ]
     },
     "metadata": {},
     "output_type": "display_data"
    }
   ],
   "source": [
    "x = run(images)"
   ]
  }
 ],
 "metadata": {
  "kernelspec": {
   "display_name": "Python 3",
   "language": "python",
   "name": "python3"
  },
  "language_info": {
   "codemirror_mode": {
    "name": "ipython",
    "version": 3
   },
   "file_extension": ".py",
   "mimetype": "text/x-python",
   "name": "python",
   "nbconvert_exporter": "python",
   "pygments_lexer": "ipython3",
   "version": "3.10.11"
  }
 },
 "nbformat": 4,
 "nbformat_minor": 2
}
